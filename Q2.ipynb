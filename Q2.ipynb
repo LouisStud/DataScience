{
 "cells": [
  {
   "cell_type": "code",
   "id": "initial_id",
   "metadata": {
    "collapsed": true,
    "ExecuteTime": {
     "end_time": "2024-04-28T12:32:25.107383Z",
     "start_time": "2024-04-28T12:32:25.088484Z"
    }
   },
   "source": [
    "import pandas as pd\n",
    "url = \"country.csv\"\n",
    "countries_df = pd.read_csv(url)\n"
   ],
   "outputs": [],
   "execution_count": 67
  },
  {
   "metadata": {
    "ExecuteTime": {
     "end_time": "2024-04-28T12:32:25.134766Z",
     "start_time": "2024-04-28T12:32:25.107383Z"
    }
   },
   "cell_type": "code",
   "source": [
    "numerical_stats = countries_df.describe()\n",
    "print(numerical_stats)\n",
    "countries_df\n"
   ],
   "id": "4398dd5369d30da7",
   "outputs": [
    {
     "name": "stdout",
     "output_type": "stream",
     "text": [
      "         Population          Area          GDP\n",
      "count  7.000000e+00  7.000000e+00     6.000000\n",
      "mean   8.086839e+07  2.926464e+06  2387.500000\n",
      "std    6.670195e+07  4.348507e+06  1532.497537\n",
      "min    2.393827e+07  3.619700e+04   744.000000\n",
      "25%    3.235604e+07  3.293615e+05  1596.250000\n",
      "50%    6.050172e+07  3.778350e+05  1824.000000\n",
      "75%    1.042833e+08  4.713910e+06  3062.000000\n",
      "max    2.083600e+08  9.984670e+06  4938.000000\n"
     ]
    },
    {
     "data": {
      "text/plain": [
       "        Name  Population     Area     GDP Currency\n",
       "0    Germany    82521653   357385  3466.0      EUR\n",
       "1      Japan   126045000   377835  4938.0      YEN\n",
       "2     Canada    36503097  9984670  1529.0      CAD\n",
       "3      Italy    60501718   301338  1850.0      EUR\n",
       "4   Brazilia   208360000  8515770  1798.0     REAL\n",
       "5     Taiwan    23938272    36197   744.0      NTD\n",
       "6  Venezuela    28208977   912050     NaN      VED"
      ],
      "text/html": [
       "<div>\n",
       "<style scoped>\n",
       "    .dataframe tbody tr th:only-of-type {\n",
       "        vertical-align: middle;\n",
       "    }\n",
       "\n",
       "    .dataframe tbody tr th {\n",
       "        vertical-align: top;\n",
       "    }\n",
       "\n",
       "    .dataframe thead th {\n",
       "        text-align: right;\n",
       "    }\n",
       "</style>\n",
       "<table border=\"1\" class=\"dataframe\">\n",
       "  <thead>\n",
       "    <tr style=\"text-align: right;\">\n",
       "      <th></th>\n",
       "      <th>Name</th>\n",
       "      <th>Population</th>\n",
       "      <th>Area</th>\n",
       "      <th>GDP</th>\n",
       "      <th>Currency</th>\n",
       "    </tr>\n",
       "  </thead>\n",
       "  <tbody>\n",
       "    <tr>\n",
       "      <th>0</th>\n",
       "      <td>Germany</td>\n",
       "      <td>82521653</td>\n",
       "      <td>357385</td>\n",
       "      <td>3466.0</td>\n",
       "      <td>EUR</td>\n",
       "    </tr>\n",
       "    <tr>\n",
       "      <th>1</th>\n",
       "      <td>Japan</td>\n",
       "      <td>126045000</td>\n",
       "      <td>377835</td>\n",
       "      <td>4938.0</td>\n",
       "      <td>YEN</td>\n",
       "    </tr>\n",
       "    <tr>\n",
       "      <th>2</th>\n",
       "      <td>Canada</td>\n",
       "      <td>36503097</td>\n",
       "      <td>9984670</td>\n",
       "      <td>1529.0</td>\n",
       "      <td>CAD</td>\n",
       "    </tr>\n",
       "    <tr>\n",
       "      <th>3</th>\n",
       "      <td>Italy</td>\n",
       "      <td>60501718</td>\n",
       "      <td>301338</td>\n",
       "      <td>1850.0</td>\n",
       "      <td>EUR</td>\n",
       "    </tr>\n",
       "    <tr>\n",
       "      <th>4</th>\n",
       "      <td>Brazilia</td>\n",
       "      <td>208360000</td>\n",
       "      <td>8515770</td>\n",
       "      <td>1798.0</td>\n",
       "      <td>REAL</td>\n",
       "    </tr>\n",
       "    <tr>\n",
       "      <th>5</th>\n",
       "      <td>Taiwan</td>\n",
       "      <td>23938272</td>\n",
       "      <td>36197</td>\n",
       "      <td>744.0</td>\n",
       "      <td>NTD</td>\n",
       "    </tr>\n",
       "    <tr>\n",
       "      <th>6</th>\n",
       "      <td>Venezuela</td>\n",
       "      <td>28208977</td>\n",
       "      <td>912050</td>\n",
       "      <td>NaN</td>\n",
       "      <td>VED</td>\n",
       "    </tr>\n",
       "  </tbody>\n",
       "</table>\n",
       "</div>"
      ]
     },
     "execution_count": 68,
     "metadata": {},
     "output_type": "execute_result"
    }
   ],
   "execution_count": 68
  },
  {
   "metadata": {
    "ExecuteTime": {
     "end_time": "2024-04-28T12:32:25.144263Z",
     "start_time": "2024-04-28T12:32:25.134766Z"
    }
   },
   "cell_type": "code",
   "source": [
    "last_four_rows = countries_df.tail(4)\n",
    "print(last_four_rows)\n"
   ],
   "id": "8e95cd446bcc0ae9",
   "outputs": [
    {
     "name": "stdout",
     "output_type": "stream",
     "text": [
      "        Name  Population     Area     GDP Currency\n",
      "3      Italy    60501718   301338  1850.0      EUR\n",
      "4   Brazilia   208360000  8515770  1798.0     REAL\n",
      "5     Taiwan    23938272    36197   744.0      NTD\n",
      "6  Venezuela    28208977   912050     NaN      VED\n"
     ]
    }
   ],
   "execution_count": 69
  },
  {
   "metadata": {
    "ExecuteTime": {
     "end_time": "2024-04-28T12:32:25.196690Z",
     "start_time": "2024-04-28T12:32:25.175511Z"
    }
   },
   "cell_type": "code",
   "source": [
    "euro_countries = countries_df[countries_df['Currency'].str.match('EUR')]\n",
    "print(euro_countries)\n"
   ],
   "id": "581c044afb16deda",
   "outputs": [
    {
     "name": "stdout",
     "output_type": "stream",
     "text": [
      "      Name  Population    Area     GDP Currency\n",
      "0  Germany    82521653  357385  3466.0      EUR\n",
      "3    Italy    60501718  301338  1850.0      EUR\n"
     ]
    }
   ],
   "execution_count": 70
  },
  {
   "metadata": {
    "ExecuteTime": {
     "end_time": "2024-04-28T12:32:25.222331Z",
     "start_time": "2024-04-28T12:32:25.212324Z"
    }
   },
   "cell_type": "code",
   "source": [
    "name_currency_df = countries_df[['Name', 'Currency']]\n",
    "print(name_currency_df)\n"
   ],
   "id": "d085326029b3f118",
   "outputs": [
    {
     "name": "stdout",
     "output_type": "stream",
     "text": [
      "        Name Currency\n",
      "0    Germany      EUR\n",
      "1      Japan      YEN\n",
      "2     Canada      CAD\n",
      "3      Italy      EUR\n",
      "4   Brazilia     REAL\n",
      "5     Taiwan      NTD\n",
      "6  Venezuela      VED\n"
     ]
    }
   ],
   "execution_count": 71
  },
  {
   "metadata": {
    "ExecuteTime": {
     "end_time": "2024-04-28T12:32:25.267913Z",
     "start_time": "2024-04-28T12:32:25.253635Z"
    }
   },
   "cell_type": "code",
   "source": [
    "gdp_above_2000 = countries_df[countries_df['GDP'] > 2000]\n",
    "print(gdp_above_2000)\n"
   ],
   "id": "d5472bca8ce0f82",
   "outputs": [
    {
     "name": "stdout",
     "output_type": "stream",
     "text": [
      "      Name  Population    Area     GDP Currency\n",
      "0  Germany    82521653  357385  3466.0      EUR\n",
      "1    Japan   126045000  377835  4938.0      YEN\n"
     ]
    }
   ],
   "execution_count": 72
  },
  {
   "metadata": {
    "ExecuteTime": {
     "end_time": "2024-04-28T12:32:25.313235Z",
     "start_time": "2024-04-28T12:32:25.299175Z"
    }
   },
   "cell_type": "code",
   "source": [
    "population_between_50_150 = countries_df[(countries_df['Population'] >= 50000000) & (countries_df['Population'] <= 150000000)]\n",
    "print(population_between_50_150)\n"
   ],
   "id": "a405277b5f8e5075",
   "outputs": [
    {
     "name": "stdout",
     "output_type": "stream",
     "text": [
      "      Name  Population    Area     GDP Currency\n",
      "0  Germany    82521653  357385  3466.0      EUR\n",
      "1    Japan   126045000  377835  4938.0      YEN\n",
      "3    Italy    60501718  301338  1850.0      EUR\n"
     ]
    }
   ],
   "execution_count": 73
  },
  {
   "metadata": {
    "ExecuteTime": {
     "end_time": "2024-04-28T12:32:25.446209Z",
     "start_time": "2024-04-28T12:32:25.434353Z"
    }
   },
   "cell_type": "code",
   "source": [
    "gdp_average = countries_df['GDP'].mean()\n",
    "print(\"Average GDP (ignore missing values):\", gdp_average)\n"
   ],
   "id": "50a300ac764fe805",
   "outputs": [
    {
     "name": "stdout",
     "output_type": "stream",
     "text": [
      "Average GDP (ignore missing values): 2387.5\n"
     ]
    }
   ],
   "execution_count": 74
  },
  {
   "metadata": {
    "ExecuteTime": {
     "end_time": "2024-04-28T12:32:25.503329Z",
     "start_time": "2024-04-28T12:32:25.493079Z"
    }
   },
   "cell_type": "code",
   "source": [
    "gdp_average_zero = countries_df['GDP'].fillna(0).mean()\n",
    "print(\"Average GDP (treat missing values as 0):\", gdp_average_zero)"
   ],
   "id": "353dc3bcb3aee0e0",
   "outputs": [
    {
     "name": "stdout",
     "output_type": "stream",
     "text": [
      "Average GDP (treat missing values as 0): 2046.4285714285713\n"
     ]
    }
   ],
   "execution_count": 75
  },
  {
   "metadata": {
    "ExecuteTime": {
     "end_time": "2024-04-28T12:32:25.579666Z",
     "start_time": "2024-04-28T12:32:25.565848Z"
    }
   },
   "cell_type": "code",
   "source": [
    "countries_df['Population Density'] = countries_df['Population'] / countries_df['Area']\n",
    "print(countries_df)\n"
   ],
   "id": "274c2ee0ff09c0b7",
   "outputs": [
    {
     "name": "stdout",
     "output_type": "stream",
     "text": [
      "        Name  Population     Area     GDP Currency  Population Density\n",
      "0    Germany    82521653   357385  3466.0      EUR          230.904075\n",
      "1      Japan   126045000   377835  4938.0      YEN          333.597999\n",
      "2     Canada    36503097  9984670  1529.0      CAD            3.655914\n",
      "3      Italy    60501718   301338  1850.0      EUR          200.776928\n",
      "4   Brazilia   208360000  8515770  1798.0     REAL           24.467547\n",
      "5     Taiwan    23938272    36197   744.0      NTD          661.333039\n",
      "6  Venezuela    28208977   912050     NaN      VED           30.929200\n"
     ]
    }
   ],
   "execution_count": 76
  },
  {
   "metadata": {
    "ExecuteTime": {
     "end_time": "2024-04-28T12:32:25.627802Z",
     "start_time": "2024-04-28T12:32:25.610916Z"
    }
   },
   "cell_type": "code",
   "source": [
    "sorted_countries = countries_df.sort_values(by='Name')\n",
    "print(sorted_countries)\n"
   ],
   "id": "b825ebf7efa20f0a",
   "outputs": [
    {
     "name": "stdout",
     "output_type": "stream",
     "text": [
      "        Name  Population     Area     GDP Currency  Population Density\n",
      "4   Brazilia   208360000  8515770  1798.0     REAL           24.467547\n",
      "2     Canada    36503097  9984670  1529.0      CAD            3.655914\n",
      "0    Germany    82521653   357385  3466.0      EUR          230.904075\n",
      "3      Italy    60501718   301338  1850.0      EUR          200.776928\n",
      "1      Japan   126045000   377835  4938.0      YEN          333.597999\n",
      "5     Taiwan    23938272    36197   744.0      NTD          661.333039\n",
      "6  Venezuela    28208977   912050     NaN      VED           30.929200\n"
     ]
    }
   ],
   "execution_count": 77
  },
  {
   "metadata": {
    "ExecuteTime": {
     "end_time": "2024-04-28T12:32:25.699278Z",
     "start_time": "2024-04-28T12:32:25.674710Z"
    }
   },
   "cell_type": "code",
   "source": [
    "countries_df['Area'] = countries_df['Area'].apply(lambda x: 'BIG' if x > 1000000 else 'SMALL')\n",
    "print(countries_df)\n"
   ],
   "id": "432aa53635fb7973",
   "outputs": [
    {
     "name": "stdout",
     "output_type": "stream",
     "text": [
      "        Name  Population   Area     GDP Currency  Population Density\n",
      "0    Germany    82521653  SMALL  3466.0      EUR          230.904075\n",
      "1      Japan   126045000  SMALL  4938.0      YEN          333.597999\n",
      "2     Canada    36503097    BIG  1529.0      CAD            3.655914\n",
      "3      Italy    60501718  SMALL  1850.0      EUR          200.776928\n",
      "4   Brazilia   208360000    BIG  1798.0     REAL           24.467547\n",
      "5     Taiwan    23938272  SMALL   744.0      NTD          661.333039\n",
      "6  Venezuela    28208977  SMALL     NaN      VED           30.929200\n"
     ]
    }
   ],
   "execution_count": 78
  },
  {
   "metadata": {
    "ExecuteTime": {
     "end_time": "2024-04-28T12:32:25.704861Z",
     "start_time": "2024-04-28T12:32:25.699278Z"
    }
   },
   "cell_type": "code",
   "source": "",
   "id": "79f3ba5cb55be373",
   "outputs": [],
   "execution_count": 78
  }
 ],
 "metadata": {
  "kernelspec": {
   "display_name": "Python 3",
   "language": "python",
   "name": "python3"
  },
  "language_info": {
   "codemirror_mode": {
    "name": "ipython",
    "version": 2
   },
   "file_extension": ".py",
   "mimetype": "text/x-python",
   "name": "python",
   "nbconvert_exporter": "python",
   "pygments_lexer": "ipython2",
   "version": "2.7.6"
  }
 },
 "nbformat": 4,
 "nbformat_minor": 5
}
